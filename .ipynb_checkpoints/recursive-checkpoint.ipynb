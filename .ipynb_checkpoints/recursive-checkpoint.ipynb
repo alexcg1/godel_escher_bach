{
 "cells": [
  {
   "cell_type": "markdown",
   "metadata": {},
   "source": [
    "## Resursion Exercises\n",
    "\n",
    "Each of these has:\n",
    "\n",
    "- `up_to` - a cut-off point of iterations, otherwise the loop would go forever\n",
    "- `counter` - tracks how many interations"
   ]
  },
  {
   "cell_type": "markdown",
   "metadata": {},
   "source": [
    "### Recursive counter"
   ]
  },
  {
   "cell_type": "code",
   "execution_count": null,
   "metadata": {},
   "outputs": [],
   "source": [
    "def recursive(counter=0, prev_x=None, prev_prev_x=None, up_to=5):\n",
    "    while counter <= up_to:\n",
    "        print(counter)\n",
    "        counter += 1\n",
    "        return recursive(counter=counter, up_to=up_to)"
   ]
  },
  {
   "cell_type": "code",
   "execution_count": null,
   "metadata": {},
   "outputs": [],
   "source": [
    "recursive()"
   ]
  },
  {
   "cell_type": "markdown",
   "metadata": {},
   "source": [
    "### True False Recursive"
   ]
  },
  {
   "cell_type": "code",
   "execution_count": null,
   "metadata": {},
   "outputs": [],
   "source": [
    "def true_is_false(x=True, up_to=5, counter=0):\n",
    "    while counter < up_to:\n",
    "        print(f\"{x=}\")\n",
    "        counter += 1\n",
    "        if x == True:\n",
    "            return true_is_false(x=False, counter=counter)\n",
    "        elif x == False:\n",
    "            return true_is_false(x=True, counter=counter)\n"
   ]
  },
  {
   "cell_type": "code",
   "execution_count": null,
   "metadata": {},
   "outputs": [],
   "source": [
    "true_is_false()"
   ]
  },
  {
   "cell_type": "markdown",
   "metadata": {},
   "source": [
    "### Fibonacci"
   ]
  },
  {
   "cell_type": "code",
   "execution_count": 1,
   "metadata": {},
   "outputs": [],
   "source": [
    "def fib(w=0, v=1, counter=0, up_to=5):\n",
    "    \"\"\"\n",
    "    w: number 1 space before x\n",
    "    v: number 2 spaces before x\n",
    "    \"\"\"\n",
    "    \n",
    "    while counter <= up_to:\n",
    "        counter +=1\n",
    "        x = w+v\n",
    "        print(f\"{x=}\")\n",
    "        return fib(w=x, v=w, counter=counter)"
   ]
  },
  {
   "cell_type": "code",
   "execution_count": 2,
   "metadata": {},
   "outputs": [
    {
     "name": "stdout",
     "output_type": "stream",
     "text": [
      "x=1\n",
      "x=1\n",
      "x=2\n",
      "x=3\n",
      "x=5\n",
      "x=8\n"
     ]
    }
   ],
   "source": [
    "fib()"
   ]
  }
 ],
 "metadata": {
  "kernelspec": {
   "display_name": "Python 3",
   "language": "python",
   "name": "python3"
  },
  "language_info": {
   "codemirror_mode": {
    "name": "ipython",
    "version": 3
   },
   "file_extension": ".py",
   "mimetype": "text/x-python",
   "name": "python",
   "nbconvert_exporter": "python",
   "pygments_lexer": "ipython3",
   "version": "3.8.6"
  }
 },
 "nbformat": 4,
 "nbformat_minor": 4
}
