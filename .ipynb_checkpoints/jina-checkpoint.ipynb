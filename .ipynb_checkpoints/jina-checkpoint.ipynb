{
 "cells": [
  {
   "cell_type": "markdown",
   "metadata": {},
   "source": [
    "# Use Jina inside Jupyter Notebook"
   ]
  },
  {
   "cell_type": "markdown",
   "metadata": {},
   "source": [
    "To build a Flow, use `AsyncFlow` instead of `Flow`"
   ]
  },
  {
   "cell_type": "code",
   "execution_count": 1,
   "metadata": {},
   "outputs": [],
   "source": [
    "from jina import AsyncFlow as Flow"
   ]
  },
  {
   "cell_type": "code",
   "execution_count": 3,
   "metadata": {},
   "outputs": [
    {
     "data": {
      "text/html": [
       "<img src=\"https://mermaid.ink/svg/JSV7aW5pdDogeyd0aGVtZSc6ICdiYXNlJywgJ3RoZW1lVmFyaWFibGVzJzogeyAncHJpbWFyeUNvbG9yJzogJyMzMkM4Q0QnLCAnZWRnZUxhYmVsQmFja2dyb3VuZCc6JyNmZmYnLCAnY2x1c3RlckJrZyc6ICcjRkZDQzY2J319fSUlCmdyYXBoIExSCmdhdGV3YXkoZ2F0ZXdheSk6OjpHQVRFV0FZIC0tPiB8UFVTSC1QVUxMfHN0ZXAxKHN0ZXAxKTo6OlBPRApzdGVwMShzdGVwMSk6OjpQT0QgLS0+IHxQVVNILVBVTEx8c3RlcDIoc3RlcDIpOjo6UE9ECnN0ZXAyKHN0ZXAyKTo6OlBPRCAtLT4gfFBVU0gtUFVMTHxnYXRld2F5X0VORChnYXRld2F5KTo6OkdBVEVXQVkKY2xhc3NEZWYgUE9EIGZpbGw6IzMyQzhDRCxzdHJva2U6IzAwOTk5OQpjbGFzc0RlZiBJTlNQRUNUIGZpbGw6I2ZmNjY2Nixjb2xvcjojZmZmCmNsYXNzRGVmIEpPSU5fSU5TUEVDVCBmaWxsOiNmZjY2NjYsY29sb3I6I2ZmZgpjbGFzc0RlZiBHQVRFV0FZIGZpbGw6IzZFNzI3OCxjb2xvcjojZmZmCmNsYXNzRGVmIElOU1BFQ1RfQVVYX1BBU1MgZmlsbDojZmZmLGNvbG9yOiMwMDAsc3Ryb2tlLWRhc2hhcnJheTogNSA1CmNsYXNzRGVmIHBlYSBmaWxsOiMwMDk5OTksc3Ryb2tlOiMxRTZFNzM=\"/>"
      ],
      "text/plain": [
       "<IPython.core.display.Image object>"
      ]
     },
     "metadata": {},
     "output_type": "display_data"
    }
   ],
   "source": [
    "Flow().add(name='step1').add(name='step2')"
   ]
  },
  {
   "cell_type": "markdown",
   "metadata": {},
   "source": [
    "Now let's feed some random data into it and print the output. Notice the `await` below!"
   ]
  },
  {
   "cell_type": "code",
   "execution_count": 7,
   "metadata": {},
   "outputs": [],
   "source": [
    "def print_blob(req):\n",
    "    for d in req.docs:\n",
    "        print(d.text)"
   ]
  },
  {
   "cell_type": "code",
   "execution_count": 8,
   "metadata": {},
   "outputs": [
    {
     "name": "stdout",
     "output_type": "stream",
     "text": [
      "           pod0@62987[I]:\u001b[37mpost_init may take some time...\u001b[0m\n",
      "           pod0@62987[I]:\u001b[37mpost_init may take some time takes 0 seconds (0.00s)\u001b[0m\n",
      "           pod0@62987[S]:\u001b[32msuccessfully built BaseExecutor from a yaml config\u001b[0m\n",
      "           pod0@62987[I]:\u001b[37minput \u001b[33mtcp://0.0.0.0:63367\u001b[0m (PULL_BIND) output \u001b[33mtcp://0.0.0.0:63368\u001b[0m (PUSH_BIND) control over \u001b[33mtcp://0.0.0.0:63369\u001b[0m (PAIR_BIND)\u001b[0m\n",
      "           pod0@62987[S]:\u001b[32mready and listening\u001b[0m\n",
      "        gateway@62988[S]:\u001b[32mGatewayPea is listening at: 0.0.0.0:63374\u001b[0m\n",
      "      AsyncFlow@62913[I]:\u001b[37m2 Pods (i.e. 2 Peas) are running in this Flow\u001b[0m\n",
      "        gateway@62988[S]:\u001b[32mready and listening\u001b[0m\n",
      "      AsyncFlow@62913[S]:\u001b[32m🎉 Flow is ready to use, accepting \u001b[1mgRPC request\u001b[0m\u001b[0m\n",
      "      AsyncFlow@62913[I]:\u001b[37m\n",
      "\t🖥️ Local access:\t\u001b[4m\u001b[36mtcp://0.0.0.0:63374\u001b[0m\n",
      "\t🔒 Private network:\t\u001b[4m\u001b[36mtcp://172.16.1.150:63374\u001b[0m\n",
      "\t🌐 Public address:\t\u001b[4m\u001b[36mtcp://94.135.231.132:63374\u001b[0m\u001b[0m\n",
      "    AsyncClient@62913[S]:\u001b[32mconnected to the gateway at 0.0.0.0:63374!\u001b[0m\n",
      "\u001b[36mindex\u001b[0m [\u001b[32m=\u001b[0m                   ] 📃      0 ⏱️ 0.0s 🐎 0.0/s      0      batchindex ...\t        gateway@62988[I]:\u001b[37minput \u001b[33mtcp://0.0.0.0:63368\u001b[0m (PULL_CONNECT) output \u001b[33mtcp://0.0.0.0:63367\u001b[0m (PUSH_CONNECT) control over \u001b[33mipc:///var/folders/hw/gpxkv2_n1fv0_cvxs6vjbc540000gn/T/tmpehhhno27\u001b[0m (PAIR_BIND)\u001b[0m\n",
      "        gateway@62988[I]:\u001b[37mprefetching 50 requests...\u001b[0m\n",
      "        gateway@62988[W]:\u001b[40m\u001b[33mif this takes too long, you may want to take smaller \"--prefetch\" or ask client to reduce \"--batch-size\"\u001b[0m\n",
      "        gateway@62988[I]:\u001b[37mprefetching 50 requests takes 0 seconds (0.01s)\u001b[0m\n",
      "           pod0@62987[I]:\u001b[37mrecv IndexRequest from gateway\u001b[32m▸\u001b[0mpod0\u001b[32m▸\u001b[0m⚐\u001b[0m\n",
      "        gateway@62988[I]:\u001b[37msend: 1 recv: 0 pending: 1\u001b[0m\n",
      "hello\n",
      "world\n",
      "\u001b[36mindex\u001b[0m [\u001b[32m=\u001b[0m                   ] 📃    100 ⏱️ 0.2s 🐎 434.8/s      1      batch        gateway@62988[I]:\u001b[37m#sent: 1 #recv: 1 sent_size: 405 Bytes recv_size: 410 Bytes\u001b[0m\n",
      "\u001b[32m    0 seconds (0.24s)\u001b[0m\n",
      "        gateway@62988[S]:\u001b[32mterminated\u001b[0m\n",
      "           pod0@62987[I]:\u001b[37mrecv ControlRequest from ctl\u001b[32m▸\u001b[0mpod0\u001b[32m▸\u001b[0m⚐\u001b[0m\n",
      "           pod0@62987[I]:\u001b[37m#sent: 2 #recv: 2 sent_size: 712 Bytes recv_size: 474 Bytes\u001b[0m\n",
      "           pod0@62987[I]:\u001b[37mno update since 2020-12-15 16:18:52, will not save. If you really want to save it, call \"touch()\" before \"save()\" to force saving\u001b[0m\n",
      "           pod0@62987[S]:\u001b[32mterminated\u001b[0m\n",
      "\t\u001b[32m✅ done in ⏱ 0 seconds 🐎 420.6/s\u001b[0m\n",
      "      AsyncFlow@62913[S]:\u001b[32mflow is closed and all resources should be released already, current build level is 0\u001b[0m\n"
     ]
    }
   ],
   "source": [
    "from jina import Document\n",
    "\n",
    "with Flow().add() as f:\n",
    "    await f.index([Document(content='hello'), Document(content='world')], output_fn=print_blob)"
   ]
  },
  {
   "cell_type": "markdown",
   "metadata": {},
   "source": [
    "## Build `hello-world` Index in Jupyter Notebook"
   ]
  },
  {
   "cell_type": "markdown",
   "metadata": {},
   "source": [
    "First, let's setup some environment variables for later use:"
   ]
  },
  {
   "cell_type": "code",
   "execution_count": 10,
   "metadata": {},
   "outputs": [],
   "source": [
    "from pkg_resources import resource_filename\n",
    "import os\n",
    "for k, v in {'RESOURCE_DIR': resource_filename('jina', 'resources'),\n",
    "             'SHARDS': 4,\n",
    "             'PARALLEL': 4,\n",
    "             'REPLICAS': 4,\n",
    "             'HW_WORKDIR': 'workdir',\n",
    "             'WITH_LOGSERVER': False}.items():\n",
    "    os.environ[k] = str(v)"
   ]
  },
  {
   "cell_type": "markdown",
   "metadata": {},
   "source": [
    "`original/index` stores the Fashion-MNIST training data. If you don't have it, [download it from here](https://github.com/zalandoresearch/fashion-mnist/#get-the-data) and unzip it."
   ]
  },
  {
   "cell_type": "code",
   "execution_count": null,
   "metadata": {
    "scrolled": true
   },
   "outputs": [],
   "source": [
    "from jina.helloworld.helper import load_mnist\n",
    "\n",
    "# do index\n",
    "f = Flow.load_config(resource_filename('jina', '/'.join(('resources', 'helloworld.flow.index.yml'))))\n",
    "\n",
    "with f:\n",
    "    await f.index_ndarray(load_mnist('original/index'), batch_size=1024)"
   ]
  },
  {
   "cell_type": "markdown",
   "metadata": {},
   "source": [
    "It will take 30s you will see the output log is scrolling and all data has been indexed. Under the current directory, you will find a newly created `workdir` with\n",
    " - `chunk_indexer-1`\n",
    " - `chunk_indexer-2`\n",
    " - `chunk_indexer-3`\n",
    " - `chunk_indexer-4`"
   ]
  },
  {
   "cell_type": "code",
   "execution_count": null,
   "metadata": {},
   "outputs": [],
   "source": []
  }
 ],
 "metadata": {
  "kernelspec": {
   "display_name": "Python 3",
   "language": "python",
   "name": "python3"
  },
  "language_info": {
   "codemirror_mode": {
    "name": "ipython",
    "version": 3
   },
   "file_extension": ".py",
   "mimetype": "text/x-python",
   "name": "python",
   "nbconvert_exporter": "python",
   "pygments_lexer": "ipython3",
   "version": "3.7.5"
  }
 },
 "nbformat": 4,
 "nbformat_minor": 4
}
