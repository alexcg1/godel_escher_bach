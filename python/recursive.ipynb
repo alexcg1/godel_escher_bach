{
 "cells": [
  {
   "cell_type": "markdown",
   "metadata": {},
   "source": [
    "## Resursion Exercises\n",
    "\n",
    "Each of these has:\n",
    "\n",
    "- `up_to` - a cut-off point of iterations, otherwise the loop would go forever\n",
    "- `counter` - tracks how many interations"
   ]
  },
  {
   "cell_type": "markdown",
   "metadata": {},
   "source": [
    "### Recursive counter"
   ]
  },
  {
   "cell_type": "code",
   "execution_count": null,
   "metadata": {},
   "outputs": [],
   "source": [
    "def recursive(counter=0, prev_x=None, prev_prev_x=None, up_to=5):\n",
    "    while counter <= up_to:\n",
    "        print(counter)\n",
    "        counter += 1\n",
    "        return recursive(counter=counter, up_to=up_to)"
   ]
  },
  {
   "cell_type": "code",
   "execution_count": null,
   "metadata": {},
   "outputs": [],
   "source": [
    "recursive()"
   ]
  },
  {
   "cell_type": "markdown",
   "metadata": {},
   "source": [
    "### True False Recursive"
   ]
  },
  {
   "cell_type": "code",
   "execution_count": 45,
   "metadata": {},
   "outputs": [],
   "source": [
    "def true_is_false(x=True, up_to=5, counter=0):\n",
    "#     print(f\"{up_to=} | {counter=}\")\n",
    "    while counter < up_to:\n",
    "#         up_to = up_to -1\n",
    "        print(f\"{x=}\")\n",
    "        counter += 1\n",
    "        if x == True:\n",
    "            return true_is_false(x=False, counter=counter, up_to=up_to)\n",
    "        elif x == False:\n",
    "            return true_is_false(x=True, counter=counter, up_to=up_to)\n"
   ]
  },
  {
   "cell_type": "code",
   "execution_count": 46,
   "metadata": {},
   "outputs": [
    {
     "name": "stdout",
     "output_type": "stream",
     "text": [
      "x=True\n",
      "x=False\n",
      "x=True\n",
      "x=False\n",
      "x=True\n",
      "x=False\n",
      "x=True\n",
      "x=False\n",
      "x=True\n",
      "x=False\n"
     ]
    }
   ],
   "source": [
    "true_is_false(up_to=10)"
   ]
  },
  {
   "cell_type": "markdown",
   "metadata": {},
   "source": [
    "### Fibonacci"
   ]
  },
  {
   "cell_type": "code",
   "execution_count": 47,
   "metadata": {},
   "outputs": [],
   "source": [
    "def fib(up_to=3, w=0, v=1, counter=0):\n",
    "    \"\"\"\n",
    "    w: number 1 space before x\n",
    "    v: number 2 spaces before x\n",
    "    \"\"\"\n",
    "    \n",
    "    while counter < up_to:\n",
    "        counter +=1\n",
    "        x = w+v\n",
    "        print(f\"{x}\")\n",
    "        return fib(w=x, v=w, counter=counter, up_to=up_to)"
   ]
  },
  {
   "cell_type": "code",
   "execution_count": 49,
   "metadata": {},
   "outputs": [
    {
     "name": "stdout",
     "output_type": "stream",
     "text": [
      "1\n",
      "1\n",
      "2\n",
      "3\n",
      "5\n",
      "8\n",
      "13\n"
     ]
    }
   ],
   "source": [
    "fib(up_to=7)"
   ]
  },
  {
   "cell_type": "markdown",
   "metadata": {},
   "source": [
    "### Factorial"
   ]
  },
  {
   "cell_type": "code",
   "execution_count": 5,
   "metadata": {},
   "outputs": [],
   "source": [
    "def factorial(x, multiplier=None):\n",
    "    if multiplier == None:\n",
    "        multiplier = x-1\n",
    "    if multiplier >= 1:\n",
    "        x = x*multiplier\n",
    "        multiplier = multiplier -1      \n",
    "        return factorial(x, multiplier)\n",
    "    else:\n",
    "        print(x)"
   ]
  },
  {
   "cell_type": "code",
   "execution_count": 6,
   "metadata": {},
   "outputs": [
    {
     "name": "stdout",
     "output_type": "stream",
     "text": [
      "720\n"
     ]
    }
   ],
   "source": [
    "factorial(6)\n",
    "# factorial(5) = 120"
   ]
  },
  {
   "cell_type": "code",
   "execution_count": null,
   "metadata": {},
   "outputs": [],
   "source": []
  }
 ],
 "metadata": {
  "kernelspec": {
   "display_name": "Python 3",
   "language": "python",
   "name": "python3"
  },
  "language_info": {
   "codemirror_mode": {
    "name": "ipython",
    "version": 3
   },
   "file_extension": ".py",
   "mimetype": "text/x-python",
   "name": "python",
   "nbconvert_exporter": "python",
   "pygments_lexer": "ipython3",
   "version": "3.8.6"
  }
 },
 "nbformat": 4,
 "nbformat_minor": 4
}
