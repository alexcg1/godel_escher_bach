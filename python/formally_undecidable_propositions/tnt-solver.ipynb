{
 "cells": [
  {
   "cell_type": "code",
   "execution_count": 1,
   "metadata": {},
   "outputs": [],
   "source": [
    "import re"
   ]
  },
  {
   "cell_type": "code",
   "execution_count": 2,
   "metadata": {},
   "outputs": [],
   "source": [
    "text = \"hello world\""
   ]
  },
  {
   "cell_type": "code",
   "execution_count": 3,
   "metadata": {},
   "outputs": [],
   "source": [
    "regexp_greedy = \"h.*o\""
   ]
  },
  {
   "cell_type": "code",
   "execution_count": 4,
   "metadata": {},
   "outputs": [
    {
     "data": {
      "text/plain": [
       "[]"
      ]
     },
     "execution_count": 4,
     "metadata": {},
     "output_type": "execute_result"
    }
   ],
   "source": [
    "re.findall(text, regexp_greedy)"
   ]
  },
  {
   "cell_type": "code",
   "execution_count": 5,
   "metadata": {},
   "outputs": [
    {
     "data": {
      "text/plain": [
       "['hello wo']"
      ]
     },
     "execution_count": 5,
     "metadata": {},
     "output_type": "execute_result"
    }
   ],
   "source": [
    "re.findall(regexp_greedy, text)"
   ]
  },
  {
   "cell_type": "code",
   "execution_count": 11,
   "metadata": {},
   "outputs": [],
   "source": [
    "regexp_nongreedy = \"h.*?o\""
   ]
  },
  {
   "cell_type": "code",
   "execution_count": 12,
   "metadata": {},
   "outputs": [
    {
     "data": {
      "text/plain": [
       "['hello']"
      ]
     },
     "execution_count": 12,
     "metadata": {},
     "output_type": "execute_result"
    }
   ],
   "source": [
    "re.findall(regexp_nongreedy, text)"
   ]
  },
  {
   "cell_type": "code",
   "execution_count": 13,
   "metadata": {},
   "outputs": [],
   "source": [
    "tnt_simple = \"SSSSSSSSO\""
   ]
  },
  {
   "cell_type": "code",
   "execution_count": 15,
   "metadata": {},
   "outputs": [],
   "source": [
    "num_str = \"S.*?O\""
   ]
  },
  {
   "cell_type": "code",
   "execution_count": 16,
   "metadata": {},
   "outputs": [],
   "source": [
    "def process_so(term):\n",
    "    number = len(term[:-1])\n",
    "    return number\n",
    "\n",
    "def process_term(term):\n",
    "    if term[-1] == \"O\" and term[0] == 'S':\n",
    "        output = process_so(term)\n",
    "    return output"
   ]
  },
  {
   "cell_type": "code",
   "execution_count": 17,
   "metadata": {},
   "outputs": [
    {
     "data": {
      "text/plain": [
       "8"
      ]
     },
     "execution_count": 17,
     "metadata": {},
     "output_type": "execute_result"
    }
   ],
   "source": [
    "process_term(tnt_simple)"
   ]
  },
  {
   "cell_type": "code",
   "execution_count": 19,
   "metadata": {},
   "outputs": [],
   "source": [
    "matches = re.findall(num_str, tnt_simple)"
   ]
  },
  {
   "cell_type": "code",
   "execution_count": 87,
   "metadata": {},
   "outputs": [],
   "source": [
    "def replace_nums(tnt):\n",
    "    num_str = \"S.*?O\"\n",
    "    output = tnt\n",
    "    matches = re.findall(num_str, tnt)\n",
    "#     print(matches)\n",
    "    for match in matches:\n",
    "        print(f\"{match=}\")\n",
    "        number = process_so(match)\n",
    "        print(f\"{number=}\")\n",
    "        output = output.replace(match, str(number))\n",
    "        \n",
    "    return output"
   ]
  },
  {
   "cell_type": "code",
   "execution_count": 42,
   "metadata": {},
   "outputs": [
    {
     "name": "stdout",
     "output_type": "stream",
     "text": [
      "match='SSSSSSSSO'\n",
      "number=8\n",
      "8\n"
     ]
    }
   ],
   "source": [
    "output = replace_nums(tnt_simple)"
   ]
  },
  {
   "cell_type": "code",
   "execution_count": 91,
   "metadata": {},
   "outputs": [],
   "source": [
    "tnt_longer = \"SSSSO+SSSSSSSSSO-SO*SSSSSSSO\""
   ]
  },
  {
   "cell_type": "code",
   "execution_count": 47,
   "metadata": {},
   "outputs": [
    {
     "name": "stdout",
     "output_type": "stream",
     "text": [
      "['SSSSO', 'SSSSSSSSSO']\n",
      "match='SSSSO'\n",
      "number=4\n",
      "match='SSSSSSSSSO'\n",
      "number=9\n"
     ]
    }
   ],
   "source": [
    "output = replace_nums(tnt_longer)"
   ]
  },
  {
   "cell_type": "code",
   "execution_count": 48,
   "metadata": {},
   "outputs": [
    {
     "name": "stdout",
     "output_type": "stream",
     "text": [
      "4+SSSSS4\n"
     ]
    }
   ],
   "source": [
    "print(output)"
   ]
  },
  {
   "cell_type": "code",
   "execution_count": 85,
   "metadata": {},
   "outputs": [],
   "source": [
    "def split_tnt(tnt):\n",
    "    tnt = list(tnt)\n",
    "    # extract numbers\n",
    "    numbers = []\n",
    "    num = 0\n",
    "    for item in tnt:\n",
    "        if not \"num\" in locals():\n",
    "            num = 0\n",
    "        if item == \"S\":\n",
    "            num += 1\n",
    "        else:\n",
    "            if \"num\" in locals():\n",
    "                if num > 0:\n",
    "                    numbers.append(num)\n",
    "                    del num\n",
    "    return numbers"
   ]
  },
  {
   "cell_type": "code",
   "execution_count": 102,
   "metadata": {},
   "outputs": [],
   "source": [
    "def nums_into_tnt(tnt):\n",
    "    numbers = split_tnt(tnt)\n",
    "    num_str = \"S.*?O\" # Non-greedy re\n",
    "    output = tnt\n",
    "    matches = re.findall(num_str, tnt)\n",
    "#     print(matches)\n",
    "    for match, num in zip(matches, numbers):\n",
    "        output = output.replace(match, str(num), 1)\n",
    "\n",
    "    return output"
   ]
  },
  {
   "cell_type": "code",
   "execution_count": 234,
   "metadata": {},
   "outputs": [],
   "source": [
    "\n",
    "\n",
    "def tnt_so_calc(numberfied_tnt):\n",
    "    all_nums = []\n",
    "    tnt = numberfied_tnt\n",
    "    # Takes a string from nums_into_tnt, calculates and inserts S..O values\n",
    "    safe_list = (['1', '2', '3', '4', '5', '6', '7', '8', '9', '0', '-', '+', '*', '/', '(', ')'])\n",
    "    \n",
    "#     to_eval = []\n",
    "#     all_nums = []\n",
    "    num = \"\"\n",
    "    to_replace = []\n",
    "    for char in tnt:\n",
    "\n",
    "        if \"num\" not in locals():\n",
    "            num = \"\"\n",
    "        if char in safe_list:   \n",
    "            num = num + char\n",
    "#             print(num)\n",
    "        else:\n",
    "#             print(eval(num))\n",
    "            to_replace.append(num) # Append number string to replace\n",
    "\n",
    "            evaluated = eval(num)\n",
    "            all_nums.append(evaluated) # Append actual int or float\n",
    "            del(num)\n",
    "            \n",
    "    if len(all_nums) == 0: # Catch list in case empty\n",
    "        all_nums.append(eval(num))\n",
    "        \n",
    "    for string, num in zip(to_replace, all_nums):\n",
    "        tnt = tnt.replace(string, num)\n",
    "\n",
    "    print(f\"{to_replace=}\")\n",
    "    print(all_nums)\n",
    "    \n",
    "    return all_nums\n",
    "        "
   ]
  },
  {
   "cell_type": "code",
   "execution_count": 141,
   "metadata": {},
   "outputs": [],
   "source": [
    "output = nums_into_tnt(tnt_longer)"
   ]
  },
  {
   "cell_type": "code",
   "execution_count": 232,
   "metadata": {},
   "outputs": [],
   "source": [
    "longer_tnt = \"<(2/1+7+9)+(7)>\""
   ]
  },
  {
   "cell_type": "code",
   "execution_count": 237,
   "metadata": {},
   "outputs": [
    {
     "name": "stdout",
     "output_type": "stream",
     "text": [
      "to_replace=[]\n",
      "[3]\n"
     ]
    },
    {
     "data": {
      "text/plain": [
       "[3]"
      ]
     },
     "execution_count": 237,
     "metadata": {},
     "output_type": "execute_result"
    }
   ],
   "source": [
    "tnt_so_calc(\"(1+2)\")"
   ]
  },
  {
   "cell_type": "code",
   "execution_count": null,
   "metadata": {},
   "outputs": [],
   "source": []
  }
 ],
 "metadata": {
  "kernelspec": {
   "display_name": "Python 3",
   "language": "python",
   "name": "python3"
  },
  "language_info": {
   "codemirror_mode": {
    "name": "ipython",
    "version": 3
   },
   "file_extension": ".py",
   "mimetype": "text/x-python",
   "name": "python",
   "nbconvert_exporter": "python",
   "pygments_lexer": "ipython3",
   "version": "3.8.6"
  }
 },
 "nbformat": 4,
 "nbformat_minor": 4
}
