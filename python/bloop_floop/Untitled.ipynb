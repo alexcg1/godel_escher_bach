{
 "cells": [
  {
   "cell_type": "markdown",
   "metadata": {},
   "source": [
    "# BlooP, FlooP, GlooP"
   ]
  },
  {
   "cell_type": "markdown",
   "metadata": {},
   "source": [
    "## Core truths of N\n",
    "\n",
    "N = all positive integers"
   ]
  },
  {
   "cell_type": "markdown",
   "metadata": {},
   "source": [
    "### Are Quanta Real?\n",
    "\n",
    "p408"
   ]
  },
  {
   "cell_type": "code",
   "execution_count": 40,
   "metadata": {},
   "outputs": [],
   "source": [
    "list1 = [7, 8, 5, 9, 8, 1] # Actually goes on much longer but lets be lazy\n",
    "list2 = [1, -1/3, 1/5, -1/7, 1/9, -1/11]"
   ]
  },
  {
   "cell_type": "markdown",
   "metadata": {},
   "source": [
    "If we look at list2, we can see pattern and work out next term is `1/13`\n",
    "\n",
    "But apparently list1 follows the same pattern...\n",
    "\n",
    "Let's start with second and third terms:"
   ]
  },
  {
   "cell_type": "markdown",
   "metadata": {},
   "source": [
    "To get from `-1/3` to `1/5`:\n",
    "\n",
    "- say `-1/3` is `n/d` (number over divisor)\n",
    "- then `1/5` is `-1*(1/(d+2)`\n",
    "\n",
    "And first term `1` is `1/1`"
   ]
  },
  {
   "cell_type": "code",
   "execution_count": 4,
   "metadata": {},
   "outputs": [],
   "source": [
    "def get_next_in_list2(n, d):\n",
    "    print(f\"This number: {n}/{d}\")\n",
    "    print(f\"Next number: {-1*n}/{d+2}\")"
   ]
  },
  {
   "cell_type": "code",
   "execution_count": 5,
   "metadata": {},
   "outputs": [
    {
     "name": "stdout",
     "output_type": "stream",
     "text": [
      "This number: -1/3\n",
      "Next number: 1/5\n"
     ]
    }
   ],
   "source": [
    "get_next_in_list2(-1, 3)"
   ]
  },
  {
   "cell_type": "code",
   "execution_count": 32,
   "metadata": {},
   "outputs": [],
   "source": [
    "def recurs_list2(n, d, limit):\n",
    "    while limit > 0:\n",
    "        limit -= 1\n",
    "        print(f\"{n}/{d} = {n/d}\")\n",
    "        n = n*-1\n",
    "        d = d+2\n",
    "        return recurs_list2(n, d, limit)\n",
    "        "
   ]
  },
  {
   "cell_type": "code",
   "execution_count": 33,
   "metadata": {},
   "outputs": [
    {
     "name": "stdout",
     "output_type": "stream",
     "text": [
      "1/1 = 1.0\n",
      "-1/3 = -0.3333333333333333\n",
      "1/5 = 0.2\n",
      "-1/7 = -0.14285714285714285\n",
      "1/9 = 0.1111111111111111\n",
      "-1/11 = -0.09090909090909091\n",
      "1/13 = 0.07692307692307693\n",
      "-1/15 = -0.06666666666666667\n",
      "1/17 = 0.058823529411764705\n",
      "-1/19 = -0.05263157894736842\n"
     ]
    }
   ],
   "source": [
    "recurs_list2(1, 1, 10)"
   ]
  },
  {
   "cell_type": "code",
   "execution_count": 34,
   "metadata": {},
   "outputs": [
    {
     "name": "stdout",
     "output_type": "stream",
     "text": [
      "7/1 = 7.0\n",
      "-7/3 = -2.3333333333333335\n",
      "7/5 = 1.4\n",
      "-7/7 = -1.0\n",
      "7/9 = 0.7777777777777778\n",
      "-7/11 = -0.6363636363636364\n",
      "7/13 = 0.5384615384615384\n",
      "-7/15 = -0.4666666666666667\n",
      "7/17 = 0.4117647058823529\n",
      "-7/19 = -0.3684210526315789\n"
     ]
    }
   ],
   "source": [
    "recurs_list2(7, 1, 10)"
   ]
  },
  {
   "cell_type": "markdown",
   "metadata": {},
   "source": [
    "So, apparently the key is to add up the items in list 2. Numbers of list 1 approximate the sum of the second. Which is apparently `pi/4`"
   ]
  },
  {
   "cell_type": "code",
   "execution_count": 54,
   "metadata": {},
   "outputs": [],
   "source": [
    "def recurs_add(numbers):\n",
    "    total = 0\n",
    "    while len(numbers) > 0:\n",
    "        for i in numbers:\n",
    "            total += numbers.pop()\n",
    "    return total"
   ]
  },
  {
   "cell_type": "code",
   "execution_count": 57,
   "metadata": {},
   "outputs": [
    {
     "name": "stdout",
     "output_type": "stream",
     "text": [
      "0.744011544011544\n"
     ]
    }
   ],
   "source": [
    "print(recurs_add(list2))"
   ]
  },
  {
   "cell_type": "code",
   "execution_count": 70,
   "metadata": {},
   "outputs": [],
   "source": [
    "\n",
    "def create_list2(n, d, limit):\n",
    "    while limit > 0:\n",
    "        text = (f\"{n}\\t/\\t{d}\\t\\t{n/d}\")\n",
    "        output.append(n/d)\n",
    "#         print(text)\n",
    "        n = n*-1\n",
    "        d = d+2\n",
    "        return create_list2(n, d, limit-1)\n",
    "        "
   ]
  },
  {
   "cell_type": "code",
   "execution_count": 80,
   "metadata": {},
   "outputs": [],
   "source": [
    "output = []\n",
    "\n",
    "list2 = create_list2(1, 1, 2000)"
   ]
  },
  {
   "cell_type": "code",
   "execution_count": 82,
   "metadata": {},
   "outputs": [],
   "source": [
    "sum_list2 = recurs_add(output)"
   ]
  },
  {
   "cell_type": "markdown",
   "metadata": {},
   "source": [
    "OK, so `sum_list2` looks a lot like the terms of list 1"
   ]
  },
  {
   "cell_type": "markdown",
   "metadata": {},
   "source": [
    "## Primitive Recursive Functions\n",
    "\n",
    "Recursive functions that have a roughly predictable stop to them:\n",
    "\n",
    "- 2 to (power of 3 to (power of n))\n",
    "- Check if number is prime\n",
    "- Check if number in prime pair\n",
    "- Goldbach property (any even number > 2 is difference of two primes)\n",
    "- Tortoise property (any even number > 2 is sum of two primes)\n",
    "- Achilles property (any (even?) number without Tortoise property)"
   ]
  },
  {
   "cell_type": "markdown",
   "metadata": {},
   "source": [
    "### Exercises in primitive recursive functions"
   ]
  },
  {
   "cell_type": "markdown",
   "metadata": {},
   "source": [
    "#### Factorial of n\n",
    "\n",
    "n * n-1 * n-2 * n-3 ..."
   ]
  },
  {
   "cell_type": "code",
   "execution_count": 95,
   "metadata": {},
   "outputs": [],
   "source": [
    "def factorial(number, minus=0, output=0):\n",
    "    while minus < number:\n",
    "        output = number * (number-minus)\n",
    "        minus += 1 # increase the minusage\n",
    "        return factorial(number, minus=minus, output=output)\n",
    "    return output\n",
    "\n",
    "    #     while current > 0:\n",
    "    #         print(current)\n",
    "    #         current -= 1"
   ]
  },
  {
   "cell_type": "code",
   "execution_count": 96,
   "metadata": {},
   "outputs": [
    {
     "name": "stdout",
     "output_type": "stream",
     "text": [
      "1\n"
     ]
    }
   ],
   "source": [
    "print(factorial(1))"
   ]
  },
  {
   "cell_type": "code",
   "execution_count": 92,
   "metadata": {},
   "outputs": [
    {
     "data": {
      "text/plain": [
       "24"
      ]
     },
     "execution_count": 92,
     "metadata": {},
     "output_type": "execute_result"
    }
   ],
   "source": [
    "4*3*2*1"
   ]
  },
  {
   "cell_type": "code",
   "execution_count": null,
   "metadata": {},
   "outputs": [],
   "source": []
  }
 ],
 "metadata": {
  "kernelspec": {
   "display_name": "Python 3",
   "language": "python",
   "name": "python3"
  },
  "language_info": {
   "codemirror_mode": {
    "name": "ipython",
    "version": 3
   },
   "file_extension": ".py",
   "mimetype": "text/x-python",
   "name": "python",
   "nbconvert_exporter": "python",
   "pygments_lexer": "ipython3",
   "version": "3.8.6"
  }
 },
 "nbformat": 4,
 "nbformat_minor": 4
}
