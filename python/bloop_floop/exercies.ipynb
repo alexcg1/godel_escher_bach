{
 "cells": [
  {
   "cell_type": "markdown",
   "metadata": {},
   "source": [
    "# Suggested Exercises\n",
    "p415-417"
   ]
  },
  {
   "cell_type": "markdown",
   "metadata": {},
   "source": [
    "## Remainder\n",
    "Remainder upon dividing m by n"
   ]
  },
  {
   "cell_type": "code",
   "execution_count": 14,
   "metadata": {},
   "outputs": [],
   "source": [
    "def remainder(m, n):\n",
    "    if m >= n:\n",
    "        while m >= n:\n",
    "            m = m-n\n",
    "        return m\n",
    "    else:\n",
    "        return \"M must be bigger than n\""
   ]
  },
  {
   "cell_type": "code",
   "execution_count": 19,
   "metadata": {},
   "outputs": [
    {
     "data": {
      "text/plain": [
       "1"
      ]
     },
     "execution_count": 19,
     "metadata": {},
     "output_type": "execute_result"
    }
   ],
   "source": [
    "remainder(13,2)"
   ]
  },
  {
   "cell_type": "markdown",
   "metadata": {},
   "source": [
    "## Pi Digit N\n",
    "\n",
    "Find nth digit of pi after decimal point\n",
    "Note: I'm not going to compute pi here. That's way too crazy"
   ]
  },
  {
   "cell_type": "code",
   "execution_count": 28,
   "metadata": {},
   "outputs": [],
   "source": [
    "from math import pi"
   ]
  },
  {
   "cell_type": "code",
   "execution_count": 35,
   "metadata": {},
   "outputs": [
    {
     "data": {
      "text/plain": [
       "'3.141592653589793'"
      ]
     },
     "execution_count": 35,
     "metadata": {},
     "output_type": "execute_result"
    }
   ],
   "source": [
    "pi"
   ]
  },
  {
   "cell_type": "code",
   "execution_count": 54,
   "metadata": {},
   "outputs": [],
   "source": [
    "def pi_digit(n):\n",
    "    from math import pi\n",
    "    # This is a hacky way\n",
    "    # n s\n",
    "    pi = str(pi)[1:]\n",
    "    return pi[n]"
   ]
  },
  {
   "cell_type": "code",
   "execution_count": 55,
   "metadata": {},
   "outputs": [
    {
     "data": {
      "text/plain": [
       "'1'"
      ]
     },
     "execution_count": 55,
     "metadata": {},
     "output_type": "execute_result"
    }
   ],
   "source": [
    "pi_digit(1)"
   ]
  },
  {
   "cell_type": "code",
   "execution_count": 57,
   "metadata": {},
   "outputs": [
    {
     "name": "stdout",
     "output_type": "stream",
     "text": [
      "1\n",
      "4\n",
      "1\n",
      "5\n",
      "9\n",
      "2\n",
      "6\n",
      "5\n",
      "3\n"
     ]
    }
   ],
   "source": [
    "for i in range(1,10):\n",
    "    print(pi_digit(i))"
   ]
  },
  {
   "cell_type": "code",
   "execution_count": 86,
   "metadata": {},
   "outputs": [],
   "source": [
    "def pi_digit_better(n):\n",
    "    from math import pi\n",
    "    pi_string = str(pi)\n",
    "    counter = 0\n",
    "    output = pi\n",
    "    while counter < n:\n",
    "        output = (float(output) - int(output[0])) * 10\n",
    "        \n",
    "        pi_string = str(output)\n",
    "        counter += 1\n",
    "    return output"
   ]
  },
  {
   "cell_type": "code",
   "execution_count": 87,
   "metadata": {},
   "outputs": [
    {
     "ename": "TypeError",
     "evalue": "'float' object is not subscriptable",
     "output_type": "error",
     "traceback": [
      "\u001b[0;31m---------------------------------------------------------------------------\u001b[0m",
      "\u001b[0;31mTypeError\u001b[0m                                 Traceback (most recent call last)",
      "\u001b[0;32m<ipython-input-87-0503a64d5095>\u001b[0m in \u001b[0;36m<module>\u001b[0;34m\u001b[0m\n\u001b[0;32m----> 1\u001b[0;31m \u001b[0mpi_digit_better\u001b[0m\u001b[0;34m(\u001b[0m\u001b[0;36m3\u001b[0m\u001b[0;34m)\u001b[0m\u001b[0;34m\u001b[0m\u001b[0;34m\u001b[0m\u001b[0m\n\u001b[0m",
      "\u001b[0;32m<ipython-input-86-89c907db5330>\u001b[0m in \u001b[0;36mpi_digit_better\u001b[0;34m(n)\u001b[0m\n\u001b[1;32m      5\u001b[0m     \u001b[0moutput\u001b[0m \u001b[0;34m=\u001b[0m \u001b[0mpi\u001b[0m\u001b[0;34m\u001b[0m\u001b[0;34m\u001b[0m\u001b[0m\n\u001b[1;32m      6\u001b[0m     \u001b[0;32mwhile\u001b[0m \u001b[0mcounter\u001b[0m \u001b[0;34m<\u001b[0m \u001b[0mn\u001b[0m\u001b[0;34m:\u001b[0m\u001b[0;34m\u001b[0m\u001b[0;34m\u001b[0m\u001b[0m\n\u001b[0;32m----> 7\u001b[0;31m         \u001b[0moutput\u001b[0m \u001b[0;34m=\u001b[0m \u001b[0;34m(\u001b[0m\u001b[0mfloat\u001b[0m\u001b[0;34m(\u001b[0m\u001b[0moutput\u001b[0m\u001b[0;34m)\u001b[0m \u001b[0;34m-\u001b[0m \u001b[0mint\u001b[0m\u001b[0;34m(\u001b[0m\u001b[0moutput\u001b[0m\u001b[0;34m[\u001b[0m\u001b[0;36m0\u001b[0m\u001b[0;34m]\u001b[0m\u001b[0;34m)\u001b[0m\u001b[0;34m)\u001b[0m \u001b[0;34m*\u001b[0m \u001b[0;36m10\u001b[0m\u001b[0;34m\u001b[0m\u001b[0;34m\u001b[0m\u001b[0m\n\u001b[0m\u001b[1;32m      8\u001b[0m \u001b[0;34m\u001b[0m\u001b[0m\n\u001b[1;32m      9\u001b[0m         \u001b[0mpi_string\u001b[0m \u001b[0;34m=\u001b[0m \u001b[0mstr\u001b[0m\u001b[0;34m(\u001b[0m\u001b[0moutput\u001b[0m\u001b[0;34m)\u001b[0m\u001b[0;34m\u001b[0m\u001b[0;34m\u001b[0m\u001b[0m\n",
      "\u001b[0;31mTypeError\u001b[0m: 'float' object is not subscriptable"
     ]
    }
   ],
   "source": [
    "pi_digit_better(3)"
   ]
  },
  {
   "cell_type": "markdown",
   "metadata": {},
   "source": [
    "## Fibonacci\n",
    "\n",
    "Nth Fibonacci number"
   ]
  },
  {
   "cell_type": "code",
   "execution_count": 112,
   "metadata": {},
   "outputs": [],
   "source": [
    "def fibo(n):\n",
    "    fib_list = []\n",
    "    counter = n\n",
    "    while counter > 0:\n",
    "        if len(fib_list) == 0:\n",
    "            next_num = 1\n",
    "        elif len(fib_list) == 1:\n",
    "            next_num = 1\n",
    "        else:\n",
    "            next_num = fib_list[-1] + fib_list[-2]\n",
    "        counter -= 1\n",
    "        fib_list.append(next_num)\n",
    "        print(fib_list)\n",
    "        \n",
    "    return fib_list[n-1]"
   ]
  },
  {
   "cell_type": "markdown",
   "metadata": {},
   "source": [
    "## Prime Beyond\n",
    "\n",
    "Lowest prime beyond n"
   ]
  },
  {
   "cell_type": "code",
   "execution_count": 133,
   "metadata": {},
   "outputs": [],
   "source": [
    "def is_prime(n):\n",
    "    divisor = n-1\n",
    "    while divisor > 1:\n",
    "        output = n % divisor\n",
    "        if output == 0:\n",
    "#             print(f\"{n} is not prime\")\n",
    "            return False\n",
    "        divisor -= 1\n",
    "#     print(f\"{n} is     prime\")\n",
    "    return True    "
   ]
  },
  {
   "cell_type": "code",
   "execution_count": 132,
   "metadata": {},
   "outputs": [],
   "source": [
    "def prime_beyond(n):\n",
    "    next_num = n+1\n",
    "    while is_prime(next_num) == False:\n",
    "        next_num += 1\n",
    "    print(next_num)"
   ]
  },
  {
   "cell_type": "code",
   "execution_count": 136,
   "metadata": {},
   "outputs": [
    {
     "name": "stdout",
     "output_type": "stream",
     "text": [
      "19\n"
     ]
    }
   ],
   "source": [
    "prime_beyond(17)"
   ]
  },
  {
   "cell_type": "markdown",
   "metadata": {},
   "source": [
    "## Perfect\n",
    "\n",
    "Nth perfect number - e.g. 28, whose divisors (1, 2, 4, 7, 14) add up to 28\n",
    "\n",
    "[list of perfects](https://en.wikipedia.org/wiki/List_of_perfect_numbers)"
   ]
  },
  {
   "cell_type": "code",
   "execution_count": 182,
   "metadata": {},
   "outputs": [],
   "source": [
    "def get_divisors(n):\n",
    "    output = []\n",
    "    divisor = n-1 # So we don't include n itself\n",
    "    while divisor > 0:\n",
    "        if n % divisor == 0:\n",
    "            output.append(divisor)\n",
    "        divisor -= 1\n",
    "    return output     "
   ]
  },
  {
   "cell_type": "code",
   "execution_count": 170,
   "metadata": {},
   "outputs": [],
   "source": [
    "def sum_up(nums):\n",
    "    total = 0\n",
    "    for n in nums:\n",
    "        total += n\n",
    "    return total"
   ]
  },
  {
   "cell_type": "code",
   "execution_count": 176,
   "metadata": {},
   "outputs": [],
   "source": [
    "def is_perfect(n):\n",
    "    divisors = get_divisors(n)\n",
    "    if sum_up(divisors) == n:\n",
    "        return True\n",
    "    return False\n",
    "#     return sum_up(divisors)"
   ]
  },
  {
   "cell_type": "code",
   "execution_count": 183,
   "metadata": {},
   "outputs": [
    {
     "data": {
      "text/plain": [
       "True"
      ]
     },
     "execution_count": 183,
     "metadata": {},
     "output_type": "execute_result"
    }
   ],
   "source": [
    "is_perfect(8128)"
   ]
  },
  {
   "cell_type": "markdown",
   "metadata": {},
   "source": [
    "## Trivial\n",
    "\n",
    "True if a^n + b^n = c^n\n",
    "\n",
    "No idea why it's called this!"
   ]
  },
  {
   "cell_type": "code",
   "execution_count": 220,
   "metadata": {},
   "outputs": [],
   "source": [
    "def is_trivial(a, b, c, n):\n",
    "    if a**n + b**n == c**n:\n",
    "        return True\n",
    "    return False"
   ]
  },
  {
   "cell_type": "code",
   "execution_count": 187,
   "metadata": {},
   "outputs": [
    {
     "name": "stdout",
     "output_type": "stream",
     "text": [
      "9\n"
     ]
    }
   ],
   "source": [
    "is_trivial(3, 0, 0, 2)"
   ]
  },
  {
   "cell_type": "markdown",
   "metadata": {},
   "source": [
    "## Pierre\n",
    "\n",
    "If a^n + b^n == c^n for some value of n > 1, return True\n",
    "\n",
    "May just go on forever"
   ]
  },
  {
   "cell_type": "code",
   "execution_count": 200,
   "metadata": {},
   "outputs": [],
   "source": [
    "def pierre(a, b, c):\n",
    "    n = 2\n",
    "    output = False\n",
    "    while output == False:\n",
    "        if is_trivial(a, b, c, n):\n",
    "            output = True\n",
    "            print(f\"n == {n}\")\n",
    "            return True\n",
    "        else:\n",
    "            print(f\"{a}^{n} + {b}^{n} != {c}^{n}\")\n",
    "            n += 1"
   ]
  },
  {
   "cell_type": "code",
   "execution_count": 201,
   "metadata": {},
   "outputs": [
    {
     "name": "stdout",
     "output_type": "stream",
     "text": [
      "n == 2\n"
     ]
    },
    {
     "data": {
      "text/plain": [
       "True"
      ]
     },
     "execution_count": 201,
     "metadata": {},
     "output_type": "execute_result"
    }
   ],
   "source": [
    "pierre(3, 4, 5)"
   ]
  },
  {
   "cell_type": "markdown",
   "metadata": {},
   "source": [
    "## Fermat\n",
    "\n",
    "input: n\n",
    "\n",
    "True if a^n + b^n = c^n"
   ]
  },
  {
   "cell_type": "code",
   "execution_count": 223,
   "metadata": {},
   "outputs": [],
   "source": [
    "def fermat(n, limit):\n",
    "    \"\"\"\n",
    "    Limit for each number max. Otherwise may spin forever\n",
    "    \"\"\"\n",
    "    a  = 1\n",
    "    b = 1\n",
    "    c = 1\n",
    "    \n",
    "    while a < limit:\n",
    "        print(f\"{a=} {b=} {c=} {is_trivial(a, b, c, n)}\")\n",
    "#         print(f\"{a=}\")\n",
    "        while b < limit:\n",
    "#             print(f\"{b=}\")\n",
    "            print(f\"{a=} {b=} {c=} {is_trivial(a, b, c, n)}\")\n",
    "            while c < limit:\n",
    "#                 print(f\"{c=}\")\n",
    "                print(f\"{a=} {b=} {c=} {is_trivial(a, b, c, n)}\")\n",
    "                \n",
    "                c += 1\n",
    "            b += 1\n",
    "        a += 1\n",
    "#         while b < limit:\n",
    "            \n",
    "        \n",
    "#         while b < limit:\n",
    "#             while c < limit and c > 0:\n",
    "#                 print(f\"{a}, {b}, {c}\")\n",
    "#                 if is_trivial(a, b, c, n):\n",
    "#                     return True\n",
    "#                 else:\n",
    "#                     c -= 1"
   ]
  },
  {
   "cell_type": "code",
   "execution_count": 224,
   "metadata": {},
   "outputs": [
    {
     "name": "stdout",
     "output_type": "stream",
     "text": [
      "a=1 b=1 c=1 False\n",
      "a=1 b=1 c=1 False\n",
      "a=1 b=1 c=1 False\n",
      "a=1 b=1 c=2 False\n",
      "a=1 b=1 c=3 False\n",
      "a=1 b=1 c=4 False\n",
      "a=1 b=1 c=5 False\n",
      "a=1 b=1 c=6 False\n",
      "a=1 b=1 c=7 False\n",
      "a=1 b=1 c=8 False\n",
      "a=1 b=1 c=9 False\n",
      "a=1 b=2 c=10 False\n",
      "a=1 b=3 c=10 False\n",
      "a=1 b=4 c=10 False\n",
      "a=1 b=5 c=10 False\n",
      "a=1 b=6 c=10 False\n",
      "a=1 b=7 c=10 False\n",
      "a=1 b=8 c=10 False\n",
      "a=1 b=9 c=10 False\n",
      "a=2 b=10 c=10 False\n",
      "a=3 b=10 c=10 False\n",
      "a=4 b=10 c=10 False\n",
      "a=5 b=10 c=10 False\n",
      "a=6 b=10 c=10 False\n",
      "a=7 b=10 c=10 False\n",
      "a=8 b=10 c=10 False\n",
      "a=9 b=10 c=10 False\n"
     ]
    }
   ],
   "source": [
    "fermat(2, 10)"
   ]
  },
  {
   "cell_type": "code",
   "execution_count": 225,
   "metadata": {},
   "outputs": [],
   "source": [
    "# def is_tortoise(n):\n",
    "#     # Is even number a sum of 2 primes?\n",
    "#     if n % 2 == 0:\n",
    "#         list1 = get_primes(n)\n",
    "#         list2 = list1.copy()\n",
    "#         for i in list1:\n",
    "#             for j in list2:\n",
    "#                 if i + j == n:\n",
    "#                     return True\n",
    "#     return False"
   ]
  },
  {
   "cell_type": "code",
   "execution_count": 231,
   "metadata": {},
   "outputs": [],
   "source": [
    "def get_primes(limit):\n",
    "    primes = []\n",
    "    while limit > 0:\n",
    "        if is_prime(limit):\n",
    "            primes.append(limit)\n",
    "        limit -= 1\n",
    "    primes.reverse()\n",
    "    return primes"
   ]
  },
  {
   "cell_type": "code",
   "execution_count": 232,
   "metadata": {},
   "outputs": [],
   "source": [
    "def is_tortoise(n):\n",
    "    # Is even number a difference of two primes?\n",
    "    # i.e. does it have goldbach property\n",
    "    # results = []\n",
    "    list1 = get_primes(n * 2)\n",
    "    list2 = list1.copy()\n",
    "    if n % 2 == 0:\n",
    "        for i in list1:\n",
    "            for j in list2:\n",
    "                if i > j:\n",
    "                    if i - j == n:\n",
    "                        return True\n",
    "    return False"
   ]
  },
  {
   "cell_type": "code",
   "execution_count": 233,
   "metadata": {},
   "outputs": [
    {
     "data": {
      "text/plain": [
       "True"
      ]
     },
     "execution_count": 233,
     "metadata": {},
     "output_type": "execute_result"
    }
   ],
   "source": [
    "is_tortoise(1742)"
   ]
  },
  {
   "cell_type": "code",
   "execution_count": 237,
   "metadata": {},
   "outputs": [],
   "source": [
    "def is_miu_well_formed(n):\n",
    "    valid_nums = ['3', '1', '0'] # M, I, U respectively\n",
    "    n = str(n)\n",
    "    for letter in n:\n",
    "        if letter not in valid_nums:\n",
    "            return False\n",
    "    return True"
   ]
  },
  {
   "cell_type": "code",
   "execution_count": 238,
   "metadata": {},
   "outputs": [
    {
     "data": {
      "text/plain": [
       "True"
      ]
     },
     "execution_count": 238,
     "metadata": {},
     "output_type": "execute_result"
    }
   ],
   "source": [
    "is_miu_well_formed(130)"
   ]
  },
  {
   "cell_type": "code",
   "execution_count": 250,
   "metadata": {},
   "outputs": [
    {
     "data": {
      "text/plain": [
       "False"
      ]
     },
     "execution_count": 250,
     "metadata": {},
     "output_type": "execute_result"
    }
   ],
   "source": [
    "is_miu_well_formed(\"013334110\")"
   ]
  },
  {
   "cell_type": "code",
   "execution_count": null,
   "metadata": {},
   "outputs": [],
   "source": []
  }
 ],
 "metadata": {
  "kernelspec": {
   "display_name": "Python 3",
   "language": "python",
   "name": "python3"
  },
  "language_info": {
   "codemirror_mode": {
    "name": "ipython",
    "version": 3
   },
   "file_extension": ".py",
   "mimetype": "text/x-python",
   "name": "python",
   "nbconvert_exporter": "python",
   "pygments_lexer": "ipython3",
   "version": "3.8.6"
  }
 },
 "nbformat": 4,
 "nbformat_minor": 4
}
