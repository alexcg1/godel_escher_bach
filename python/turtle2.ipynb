{
 "cells": [
  {
   "cell_type": "code",
   "execution_count": 30,
   "metadata": {},
   "outputs": [],
   "source": [
    "from ipyturtle import Turtle\n",
    "# import turtle\n",
    "# from turtle import *\n",
    "from random import random, randint"
   ]
  },
  {
   "cell_type": "code",
   "execution_count": 31,
   "metadata": {},
   "outputs": [],
   "source": [
    "t = Turtle()"
   ]
  },
  {
   "cell_type": "code",
   "execution_count": 32,
   "metadata": {},
   "outputs": [],
   "source": [
    "left_amount = 10\n",
    "right_amount = 10\n",
    "levels = 2\n",
    "snow_range = 2\n",
    "length = 300.0"
   ]
  },
  {
   "cell_type": "code",
   "execution_count": 33,
   "metadata": {},
   "outputs": [],
   "source": [
    "def snowflake(lengthSide, levels): \n",
    "    if levels == 0: \n",
    "        t.forward(lengthSide) \n",
    "        return\n",
    "    lengthSide /= 3.0\n",
    "    snowflake(lengthSide, levels-1) \n",
    "    t.left(left_amount) \n",
    "    snowflake(lengthSide, levels-1) \n",
    "    t.right(right_amount) \n",
    "    snowflake(lengthSide, levels-1) \n",
    "    t.left(left_amount) \n",
    "    snowflake(lengthSide, levels-1) "
   ]
  },
  {
   "cell_type": "code",
   "execution_count": 34,
   "metadata": {},
   "outputs": [],
   "source": [
    "\n",
    "t.reset()\n",
    "# defining the speed of the turtle \n",
    "#     speed(9999)                    \n",
    "#     length = 300.0\n",
    "#     length = float(randint(50, 500))\n",
    "\n",
    "# Pull the pen up – no drawing when moving. \n",
    "# Move the turtle backward by distance, opposite \n",
    "# to the direction the turtle is headed. \n",
    "# Do not change the turtle’s heading.            \n",
    "t.penup()                      \n",
    "\n",
    "t.back(length/2.0) \n",
    "\n",
    "# Pull the pen down – drawing when moving.         \n",
    "t.pendown()            \n",
    "for i in range(snow_range):     \n",
    "    snowflake(length, levels) \n",
    "    right(right_amount) \n",
    "\n",
    " # To control the closing windows of the turtle \n"
   ]
  },
  {
   "cell_type": "code",
   "execution_count": null,
   "metadata": {},
   "outputs": [],
   "source": []
  }
 ],
 "metadata": {
  "kernelspec": {
   "display_name": "Python 3",
   "language": "python",
   "name": "python3"
  },
  "language_info": {
   "codemirror_mode": {
    "name": "ipython",
    "version": 3
   },
   "file_extension": ".py",
   "mimetype": "text/x-python",
   "name": "python",
   "nbconvert_exporter": "python",
   "pygments_lexer": "ipython3",
   "version": "3.8.6"
  }
 },
 "nbformat": 4,
 "nbformat_minor": 4
}
